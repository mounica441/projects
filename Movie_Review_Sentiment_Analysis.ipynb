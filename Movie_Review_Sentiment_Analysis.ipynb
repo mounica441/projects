{
 "cells": [
  {
   "cell_type": "markdown",
   "metadata": {
    "colab_type": "text",
    "id": "view-in-github"
   },
   "source": [
    "<a href=\"https://colab.research.google.com/github/Meghashyamt/Movie-Review-Sentiment-Analysis/blob/master/Movie_Review_Sentiment_Analysis.ipynb\" target=\"_parent\"><img src=\"https://colab.research.google.com/assets/colab-badge.svg\" alt=\"Open In Colab\"/></a>"
   ]
  },
  {
   "cell_type": "markdown",
   "metadata": {
    "colab_type": "text",
    "id": "Zrq1YdJabx1G"
   },
   "source": [
    "**Objective:**\n",
    "\n",
    "Sentiment Analysis is the process of computationally identifying and categorizing opinions expressed in a piece of text, especially in order to determine whether the writer's attitude towards a particular topic, product, etc. is positive, negative, or neutral.\n",
    "In this kernel, we will be creating a model which predicts sentiment of IMDB reviews.\n",
    "\n",
    "**Data Description:**\n",
    "\n",
    "The core dataset contains 50,000 reviews split evenly into 25k train and 25k test sets. The overall distribution of labels is balanced (25k pos and 25k neg). In the labeled train/test sets, a negative review has a score <= 4 out of 10, and a positive review has a score >= 7 out of 10. Thus reviews with more neutral ratings are not included in the train/test sets."
   ]
  },
  {
   "cell_type": "markdown",
   "metadata": {
    "colab_type": "text",
    "id": "EUaLhYgkDFL-"
   },
   "source": [
    "# Importing Libraries"
   ]
  },
  {
   "cell_type": "code",
   "execution_count": 0,
   "metadata": {
    "colab": {},
    "colab_type": "code",
    "id": "oWQIPfo7b4V5"
   },
   "outputs": [],
   "source": [
    "import numpy as np\n",
    "import pandas as pd\n",
    "import os\n",
    "import nltk\n",
    "import re\n",
    "import tensorflow as tf\n",
    "import matplotlib.pyplot as plt\n",
    "from tensorflow import keras\n",
    "from tensorflow.keras import layers\n",
    "\n",
    "from nltk.corpus import stopwords\n",
    "from nltk.stem.porter import PorterStemmer\n",
    "from IPython.display import HTML\n",
    "from pathlib import Path"
   ]
  },
  {
   "cell_type": "markdown",
   "metadata": {
    "colab": {
     "base_uri": "https://localhost:8080/",
     "height": 91,
     "resources": {
      "http://localhost:8080/nbextensions/google.colab/files.js": {
       "data": "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",
       "headers": [
        [
         "content-type",
         "application/javascript"
        ]
       ],
       "ok": true,
       "status": 200,
       "status_text": ""
      }
     }
    },
    "colab_type": "code",
    "id": "PRJSEadOehKC",
    "outputId": "cce5e704-f695-4500-cb45-3df7d335f3fd"
   },
   "source": [
    "from google.colab import files\n",
    "files.upload()"
   ]
  },
  {
   "cell_type": "markdown",
   "metadata": {
    "colab": {
     "base_uri": "https://localhost:8080/",
     "height": 34
    },
    "colab_type": "code",
    "id": "Nh-DMtHUeopv",
    "outputId": "134f64ac-7085-4a79-fb71-f51388d8f731"
   },
   "source": [
    "!mkdir -p ~/.kaggle\n",
    "!cp kaggle.json ~/.kaggle/\n",
    "!chmod 600 ~/.kaggle/kaggle.json\n",
    "!ls ~/.kaggle"
   ]
  },
  {
   "cell_type": "markdown",
   "metadata": {
    "colab": {
     "base_uri": "https://localhost:8080/",
     "height": 68
    },
    "colab_type": "code",
    "id": "ISeM6KnZevwj",
    "outputId": "d11cfc79-b277-474b-b242-851b2d28fc8f"
   },
   "source": [
    "!ls -l ~/.kaggle\n",
    "!cat ~/.kaggle/kaggle.json"
   ]
  },
  {
   "cell_type": "markdown",
   "metadata": {
    "colab": {
     "base_uri": "https://localhost:8080/",
     "height": 136
    },
    "colab_type": "code",
    "id": "TDnT-heGe0_w",
    "outputId": "34dbf0f2-13fd-4cfa-ce44-f3033ad462c9"
   },
   "source": [
    "!pip install -q kaggle\n",
    "!pip install -q kaggle-cli"
   ]
  },
  {
   "cell_type": "markdown",
   "metadata": {
    "colab": {
     "base_uri": "https://localhost:8080/",
     "height": 68
    },
    "colab_type": "code",
    "id": "M2tbyurAe5eE",
    "outputId": "e081e6b5-089e-4c7b-b6df-d434a82f8e86"
   },
   "source": [
    "import os\n",
    "os.environ['KAGGLEUSERNAME'] = \"shyamms18\"\n",
    "os.environ['KAGGLEKEY'] = \"30f7d644fcdf6b9a9905a4a4c1a2dcf1\"\n",
    "!kaggle datasets download iarunava/imdb-movie-reviews-dataset"
   ]
  },
  {
   "cell_type": "markdown",
   "metadata": {
    "colab": {
     "base_uri": "https://localhost:8080/",
     "height": 1000
    },
    "colab_type": "code",
    "id": "3W9lDwxHfLM6",
    "outputId": "c90f6ba2-5ded-4b8f-ef22-c1be60f9db0b"
   },
   "source": [
    "!unzip imdb-movie-reviews-dataset.zip"
   ]
  },
  {
   "cell_type": "markdown",
   "metadata": {
    "colab_type": "text",
    "id": "Pp1ImiNRD6uS"
   },
   "source": [
    "# Importing the Dataset"
   ]
  },
  {
   "cell_type": "code",
   "execution_count": 0,
   "metadata": {
    "colab": {},
    "colab_type": "code",
    "id": "_bvV3xFEbzyj"
   },
   "outputs": [],
   "source": [
    "file_path = \"aclImdb/\"\n",
    "pos_filenames = [file_path + \"/train/pos/\" + x for x in os.listdir(file_path + \"train/pos/\") if x.endswith(\".txt\")]\n",
    "neg_filenames = [file_path + \"/train/neg/\" + x for x in os.listdir(file_path + \"train/neg/\") if x.endswith(\".txt\")]\n",
    "\n",
    "positiveReviews, negativeReviews = [], []\n",
    "for f in pos_filenames:\n",
    "    positiveReviews.append(Path(f).read_text(encoding='utf8'))\n",
    "\n",
    "for f in neg_filenames:\n",
    "    negativeReviews.append(Path(f).read_text(encoding='utf8'))"
   ]
  },
  {
   "cell_type": "markdown",
   "metadata": {
    "colab_type": "text",
    "id": "xC0XmdXeED0n"
   },
   "source": [
    "## **Labelled Data with Positive as 1 and Negative as 0**"
   ]
  },
  {
   "cell_type": "code",
   "execution_count": 93,
   "metadata": {
    "colab": {
     "base_uri": "https://localhost:8080/",
     "height": 204
    },
    "colab_type": "code",
    "id": "F9Mm4UQ7c6Ya",
    "outputId": "787a7810-359a-4b7f-fb5c-7fcbc98f18a3"
   },
   "outputs": [
    {
     "data": {
      "text/html": [
       "<div>\n",
       "<style scoped>\n",
       "    .dataframe tbody tr th:only-of-type {\n",
       "        vertical-align: middle;\n",
       "    }\n",
       "\n",
       "    .dataframe tbody tr th {\n",
       "        vertical-align: top;\n",
       "    }\n",
       "\n",
       "    .dataframe thead th {\n",
       "        text-align: right;\n",
       "    }\n",
       "</style>\n",
       "<table border=\"1\" class=\"dataframe\">\n",
       "  <thead>\n",
       "    <tr style=\"text-align: right;\">\n",
       "      <th></th>\n",
       "      <th>review</th>\n",
       "      <th>label</th>\n",
       "      <th>file</th>\n",
       "    </tr>\n",
       "  </thead>\n",
       "  <tbody>\n",
       "    <tr>\n",
       "      <th>21492</th>\n",
       "      <td>Now, I've seen a lot of bad movies. I like bad...</td>\n",
       "      <td>0</td>\n",
       "      <td>aclImdb//train/neg/10944_1.txt</td>\n",
       "    </tr>\n",
       "    <tr>\n",
       "      <th>9488</th>\n",
       "      <td>Any one who has seen Mel Gibson's The Passion ...</td>\n",
       "      <td>1</td>\n",
       "      <td>aclImdb//train/pos/2408_8.txt</td>\n",
       "    </tr>\n",
       "    <tr>\n",
       "      <th>16933</th>\n",
       "      <td>I found this film to be quite an oddity. From ...</td>\n",
       "      <td>0</td>\n",
       "      <td>aclImdb//train/neg/541_4.txt</td>\n",
       "    </tr>\n",
       "    <tr>\n",
       "      <th>12604</th>\n",
       "      <td>I was previously unaware that in the early 199...</td>\n",
       "      <td>0</td>\n",
       "      <td>aclImdb//train/neg/3950_1.txt</td>\n",
       "    </tr>\n",
       "    <tr>\n",
       "      <th>8222</th>\n",
       "      <td>i, too, loved this series when i was a kid. In...</td>\n",
       "      <td>1</td>\n",
       "      <td>aclImdb//train/pos/2203_8.txt</td>\n",
       "    </tr>\n",
       "  </tbody>\n",
       "</table>\n",
       "</div>"
      ],
      "text/plain": [
       "                                                  review  ...                            file\n",
       "21492  Now, I've seen a lot of bad movies. I like bad...  ...  aclImdb//train/neg/10944_1.txt\n",
       "9488   Any one who has seen Mel Gibson's The Passion ...  ...   aclImdb//train/pos/2408_8.txt\n",
       "16933  I found this film to be quite an oddity. From ...  ...    aclImdb//train/neg/541_4.txt\n",
       "12604  I was previously unaware that in the early 199...  ...   aclImdb//train/neg/3950_1.txt\n",
       "8222   i, too, loved this series when i was a kid. In...  ...   aclImdb//train/pos/2203_8.txt\n",
       "\n",
       "[5 rows x 3 columns]"
      ]
     },
     "execution_count": 93,
     "metadata": {
      "tags": []
     },
     "output_type": "execute_result"
    }
   ],
   "source": [
    "#Labelled data 1 'positive'  0 'negative'\n",
    "dataset = pd.concat([\n",
    "    pd.DataFrame({\"review\":positiveReviews, \"label\":1, \"file\":pos_filenames}),\n",
    "    pd.DataFrame({\"review\":negativeReviews, \"label\":0, \"file\":neg_filenames})\n",
    "], ignore_index=True).sample(frac=1, random_state=1)\n",
    "\n",
    "dataset.head()"
   ]
  },
  {
   "cell_type": "markdown",
   "metadata": {
    "colab_type": "text",
    "id": "t1iPoD3sGg5p"
   },
   "source": [
    "## **Visualisation of Labelled data**"
   ]
  },
  {
   "cell_type": "code",
   "execution_count": 94,
   "metadata": {
    "colab": {
     "base_uri": "https://localhost:8080/",
     "height": 291
    },
    "colab_type": "code",
    "id": "TJG2YPFGGDPN",
    "outputId": "ccac1277-d6ad-4604-edff-0cecfebd69ec"
   },
   "outputs": [
    {
     "data": {
      "image/png": "[encoded data removed]",
      "text/plain": [
       "<Figure size 432x288 with 1 Axes>"
      ]
     },
     "metadata": {
      "tags": []
     },
     "output_type": "display_data"
    }
   ],
   "source": [
    "import seaborn as sns\n",
    "sns.set(style=\"darkgrid\")\n",
    "#movie = sns.load_dataset(\"dataset\")\n",
    "ax = sns.countplot(x=\"label\", data=dataset)"
   ]
  },
  {
   "cell_type": "markdown",
   "metadata": {
    "colab_type": "text",
    "id": "LD87ka6LdAA0"
   },
   "source": [
    "**Positive Review**: This was a great movie! Even though there was only about 15 people including myself there it was great! My friend and I laughed a lot. My mom even enjoyed it. There was two middle aged women there and a mid 20 year old there and they seemed to enjoy it. I love the part where Corky and Ned are like both liking Nancy and stuff its cute lol. And when she gets her roadster and Ned is there. Yeah This was a great movie even thought people underestimated it lol. Go See it i bet you'll enjoy it!! I really enjoyed it and so did my friend. \n",
    "\n",
    "People were so tough on this movie and they hadn't even seen it. I bet next time they will give the movie and actresses a chance. They all did a great job in my opinion. But if you have young kids its still appropriate. I will probably take my 7 year old niece to watch it too."
   ]
  },
  {
   "cell_type": "markdown",
   "metadata": {
    "colab_type": "text",
    "id": "OYehtZK-dFEf"
   },
   "source": [
    "**Negative Review:** A bloody maniac with cannibalistic tendencies rapes a woman. He's been shot by two policemen and then he is risen from the grave because of some sort of satanic ceremonial rite preformed by an evil heresy. The hunting of women continues by this zombie-demon. The sacrificed baby returns from the grave and wants the maniac dead again, but only with the help of the police this will come true...\n",
    "\n",
    "A bloody 65-minute mess...Horny zombies, doll-babies, S&M, corrupted and twisted policemen, repented heretics who seek refuge in front of Jesus Christ and three text-screens at the end of the film explaining us what finally happened to the policeman who survived (yes, we ought to know!)... Two decent disemboweling shots can't save the situation. I've seen worst horror-flicks, but this one was pretty bad too. Recommended only for the die-very-hard fans of the genre."
   ]
  },
  {
   "cell_type": "code",
   "execution_count": 0,
   "metadata": {
    "colab": {},
    "colab_type": "code",
    "id": "-phQc3rgdGPj"
   },
   "outputs": [],
   "source": [
    "from bs4 import BeautifulSoup\n",
    "dataset.review = dataset.review.apply(lambda r: BeautifulSoup(r, 'html.parser').get_text())"
   ]
  },
  {
   "cell_type": "markdown",
   "metadata": {
    "colab_type": "text",
    "id": "aR43z7tBER7_"
   },
   "source": [
    "## **To replace other unwanted symbols and values in the reviews**"
   ]
  },
  {
   "cell_type": "code",
   "execution_count": 96,
   "metadata": {
    "colab": {
     "base_uri": "https://localhost:8080/",
     "height": 51
    },
    "colab_type": "code",
    "id": "slWEtm4JdBbE",
    "outputId": "4d4bea44-3332-440f-bedd-2e3f3d43862f"
   },
   "outputs": [
    {
     "data": {
      "text/html": [
       "Obsession comes in many flavors and exists for a variety of reasons for some it may be nothing more than a compulsive disorder but for others it may be an avenue of survival Lack of nurturing combined with an inability to negotiate even the simplest "
      ],
      "text/plain": [
       "<IPython.core.display.HTML object>"
      ]
     },
     "execution_count": 96,
     "metadata": {
      "tags": []
     },
     "output_type": "execute_result"
    }
   ],
   "source": [
    "dataset.review.replace(to_replace ='[^a-z A-Z]', value = '', regex = True, inplace = True)\n",
    "HTML(dataset.review.get(0)[:250])"
   ]
  },
  {
   "cell_type": "code",
   "execution_count": 97,
   "metadata": {
    "colab": {
     "base_uri": "https://localhost:8080/",
     "height": 51
    },
    "colab_type": "code",
    "id": "x3TP81M2c75E",
    "outputId": "498764dc-cf27-4594-9719-fb7254172ce5"
   },
   "outputs": [
    {
     "data": {
      "text/html": [
       "obsession comes in many flavors and exists for a variety of reasons for some it may be nothing more than a compulsive disorder but for others it may be an avenue of survival lack of nurturing combined with an inability to negotiate even the simplest "
      ],
      "text/plain": [
       "<IPython.core.display.HTML object>"
      ]
     },
     "execution_count": 97,
     "metadata": {
      "tags": []
     },
     "output_type": "execute_result"
    }
   ],
   "source": [
    "dataset.review = dataset.review.str.lower()\n",
    "HTML(dataset.review.get(0)[:250])"
   ]
  },
  {
   "cell_type": "markdown",
   "metadata": {
    "colab_type": "text",
    "id": "HYCqZVvRdZyF"
   },
   "source": [
    "## **Remove the stop-words, duplicate words and Lemmatize the words**\n",
    "Stop-Word: A stop word is a commonly used word such as “the”, “a”, “an”, “in”, etc. We would not want these words to be included as feature in our dataset.\n",
    "\n",
    "Lemmatization: Lemmatization is the process of grouping together the different inflected forms of a word so they can be analysed as a single item.\n",
    "Example:\n",
    "\n",
    "rocks : rock\n",
    "corpora : corpus\n",
    "better : good\n",
    "learning : learn"
   ]
  },
  {
   "cell_type": "code",
   "execution_count": 98,
   "metadata": {
    "colab": {
     "base_uri": "https://localhost:8080/",
     "height": 119
    },
    "colab_type": "code",
    "id": "4VxXjzcZdbeG",
    "outputId": "6fc22433-c31f-4ed9-ebaa-9f9738cc08af"
   },
   "outputs": [
    {
     "name": "stdout",
     "output_type": "stream",
     "text": [
      "[nltk_data] Downloading package stopwords to /root/nltk_data...\n",
      "[nltk_data]   Package stopwords is already up-to-date!\n",
      "[nltk_data] Downloading package wordnet to /root/nltk_data...\n",
      "[nltk_data]   Package wordnet is already up-to-date!\n"
     ]
    },
    {
     "data": {
      "text/html": [
       "cast directed enthusiastically rush lack achilles preference texture john exploited brady u difference even mentor satisfaction marleen nothing heighten must long gifted helfgott introspective way memorable nurturing chess saving single cinema natali"
      ],
      "text/plain": [
       "<IPython.core.display.HTML object>"
      ]
     },
     "execution_count": 98,
     "metadata": {
      "tags": []
     },
     "output_type": "execute_result"
    }
   ],
   "source": [
    "from nltk.stem import WordNetLemmatizer\n",
    "import nltk\n",
    "nltk.download('stopwords')\n",
    "nltk.download('wordnet')\n",
    "\n",
    "lemmatizer = WordNetLemmatizer()\n",
    "english_stopwords = set(stopwords.words('english'))\n",
    "dataset.review = dataset.review.apply(lambda x: ' '.join([lemmatizer.lemmatize(word) for word in set(x.split()) if word not in english_stopwords]))\n",
    "HTML(dataset.review.get(0)[:250])"
   ]
  },
  {
   "cell_type": "markdown",
   "metadata": {
    "colab_type": "text",
    "id": "fDXMZPSqEprz"
   },
   "source": [
    "## **Finding the length of the Random review taken**"
   ]
  },
  {
   "cell_type": "code",
   "execution_count": 99,
   "metadata": {
    "colab": {
     "base_uri": "https://localhost:8080/",
     "height": 68
    },
    "colab_type": "code",
    "id": "BtVX7UXQdqSZ",
    "outputId": "cd280fec-e91d-4a57-8937-cc3b804ffe47"
   },
   "outputs": [
    {
     "name": "stdout",
     "output_type": "stream",
     "text": [
      "Length of 1st example:  99\n",
      "Length of 5th example:  34\n",
      "Length of 16th example:  63\n"
     ]
    }
   ],
   "source": [
    "from tensorflow.keras.preprocessing.text import Tokenizer\n",
    "from tensorflow.keras.preprocessing.sequence import pad_sequences\n",
    "\n",
    "MAX_VOCABS = 10000\n",
    "\n",
    "tokenizer = Tokenizer(num_words = MAX_VOCABS)\n",
    "tokenizer.fit_on_texts(pd.concat([dataset.review]))\n",
    "x = tokenizer.texts_to_sequences(dataset.review)\n",
    "\n",
    "print(\"Length of 1st example: \", len(x[0]))\n",
    "print(\"Length of 5th example: \",  len(x[5]))\n",
    "print(\"Length of 16th example: \",  len(x[16]))"
   ]
  },
  {
   "cell_type": "markdown",
   "metadata": {
    "colab_type": "text",
    "id": "GRq4kUWpE6bO"
   },
   "source": [
    "## **Maximum number of words**"
   ]
  },
  {
   "cell_type": "code",
   "execution_count": 100,
   "metadata": {
    "colab": {
     "base_uri": "https://localhost:8080/",
     "height": 34
    },
    "colab_type": "code",
    "id": "cCCmCinfdvAW",
    "outputId": "eb86ba4c-8c26-4840-9c3d-8c13e100aaf2"
   },
   "outputs": [
    {
     "name": "stdout",
     "output_type": "stream",
     "text": [
      "Maximum number of words in the reviews:  509\n"
     ]
    }
   ],
   "source": [
    "print(\"Maximum number of words in the reviews: \", max([len(i) for i in x]))"
   ]
  },
  {
   "cell_type": "code",
   "execution_count": 101,
   "metadata": {
    "colab": {
     "base_uri": "https://localhost:8080/",
     "height": 68
    },
    "colab_type": "code",
    "id": "nqAfUj3ldzmD",
    "outputId": "51e976f7-ff36-4b88-a505-d04dd8e6fd2b"
   },
   "outputs": [
    {
     "name": "stdout",
     "output_type": "stream",
     "text": [
      "Length of 1st example:  509\n",
      "Length of 5th example:  509\n",
      "Length of 16th example:  509\n"
     ]
    }
   ],
   "source": [
    "from keras.preprocessing.sequence import pad_sequences\n",
    "MAX_LEN = max([len(i) for i in x])\n",
    "vocab_size = MAX_VOCABS + 1\n",
    "x = pad_sequences(x, padding='post', maxlen=MAX_LEN, value=vocab_size)\n",
    "\n",
    "print(\"Length of 1st example: \", len(x[0]))\n",
    "print(\"Length of 5th example: \",  len(x[5]))\n",
    "print(\"Length of 16th example: \",  len(x[16]))"
   ]
  },
  {
   "cell_type": "markdown",
   "metadata": {
    "colab_type": "text",
    "id": "7Vv_MWrmFAuC"
   },
   "source": [
    "## **Train and Testing the dataset**"
   ]
  },
  {
   "cell_type": "code",
   "execution_count": 0,
   "metadata": {
    "colab": {},
    "colab_type": "code",
    "id": "ZNKAlM43d6hY"
   },
   "outputs": [],
   "source": [
    "from sklearn.model_selection import train_test_split\n",
    "x_train, x_test, y_train, y_test = train_test_split(x, dataset.label, test_size = 0.2, random_state = 1)"
   ]
  },
  {
   "cell_type": "markdown",
   "metadata": {
    "colab_type": "text",
    "id": "5WT4V1_lFGhd"
   },
   "source": [
    "## **Building and Training the model**"
   ]
  },
  {
   "cell_type": "code",
   "execution_count": 157,
   "metadata": {
    "colab": {
     "base_uri": "https://localhost:8080/",
     "height": 1000
    },
    "colab_type": "code",
    "id": "iKXIQ9o-d-YA",
    "outputId": "e74f3e64-c321-4091-e906-0751dc3b0884"
   },
   "outputs": [
    {
     "name": "stdout",
     "output_type": "stream",
     "text": [
      "Train on 20000 samples, validate on 5000 samples\n",
      "Epoch 1/300\n",
      "20000/20000 - 2s - loss: 0.6924 - acc: 0.5171 - val_loss: 0.6816 - val_acc: 0.7712\n",
      "Epoch 2/300\n",
      "20000/20000 - 1s - loss: 0.4644 - acc: 0.7822 - val_loss: 0.3110 - val_acc: 0.8680\n",
      "Epoch 3/300\n",
      "20000/20000 - 1s - loss: 0.2530 - acc: 0.9015 - val_loss: 0.2791 - val_acc: 0.8878\n",
      "Epoch 4/300\n",
      "20000/20000 - 1s - loss: 0.1943 - acc: 0.9273 - val_loss: 0.2814 - val_acc: 0.8898\n",
      "Epoch 5/300\n",
      "20000/20000 - 1s - loss: 0.1603 - acc: 0.9434 - val_loss: 0.3328 - val_acc: 0.8758\n",
      "Epoch 6/300\n",
      "20000/20000 - 1s - loss: 0.1390 - acc: 0.9517 - val_loss: 0.3534 - val_acc: 0.8652\n",
      "Epoch 7/300\n",
      "20000/20000 - 1s - loss: 0.1266 - acc: 0.9573 - val_loss: 0.3363 - val_acc: 0.8842\n",
      "Epoch 8/300\n",
      "20000/20000 - 1s - loss: 0.0955 - acc: 0.9703 - val_loss: 0.3533 - val_acc: 0.8838\n",
      "Epoch 9/300\n",
      "20000/20000 - 1s - loss: 0.0876 - acc: 0.9724 - val_loss: 0.4257 - val_acc: 0.8730\n",
      "Epoch 10/300\n",
      "20000/20000 - 1s - loss: 0.0719 - acc: 0.9794 - val_loss: 0.4296 - val_acc: 0.8774\n",
      "Epoch 11/300\n",
      "20000/20000 - 1s - loss: 0.0693 - acc: 0.9800 - val_loss: 0.4709 - val_acc: 0.8730\n",
      "Epoch 12/300\n",
      "20000/20000 - 1s - loss: 0.0498 - acc: 0.9888 - val_loss: 0.4897 - val_acc: 0.8716\n",
      "Epoch 13/300\n",
      "20000/20000 - 1s - loss: 0.0469 - acc: 0.9885 - val_loss: 0.5352 - val_acc: 0.8684\n",
      "Epoch 14/300\n",
      "20000/20000 - 1s - loss: 0.0357 - acc: 0.9928 - val_loss: 0.5711 - val_acc: 0.8670\n",
      "Epoch 15/300\n",
      "20000/20000 - 1s - loss: 0.0295 - acc: 0.9948 - val_loss: 0.5822 - val_acc: 0.8666\n",
      "Epoch 16/300\n",
      "20000/20000 - 1s - loss: 0.0276 - acc: 0.9948 - val_loss: 0.6380 - val_acc: 0.8674\n",
      "Epoch 17/300\n",
      "20000/20000 - 1s - loss: 0.0232 - acc: 0.9958 - val_loss: 0.6757 - val_acc: 0.8650\n",
      "Epoch 18/300\n",
      "20000/20000 - 1s - loss: 0.0290 - acc: 0.9922 - val_loss: 0.7219 - val_acc: 0.8618\n",
      "Epoch 19/300\n",
      "20000/20000 - 1s - loss: 0.0417 - acc: 0.9873 - val_loss: 0.6250 - val_acc: 0.8580\n",
      "Epoch 20/300\n",
      "20000/20000 - 1s - loss: 0.0312 - acc: 0.9910 - val_loss: 0.7452 - val_acc: 0.8598\n",
      "Epoch 21/300\n",
      "20000/20000 - 1s - loss: 0.0432 - acc: 0.9848 - val_loss: 0.7121 - val_acc: 0.8596\n",
      "Epoch 22/300\n",
      "20000/20000 - 1s - loss: 0.0208 - acc: 0.9949 - val_loss: 0.7723 - val_acc: 0.8586\n",
      "Epoch 23/300\n",
      "20000/20000 - 1s - loss: 0.0143 - acc: 0.9972 - val_loss: 0.8323 - val_acc: 0.8596\n",
      "Epoch 24/300\n",
      "20000/20000 - 1s - loss: 0.0517 - acc: 0.9808 - val_loss: 0.7445 - val_acc: 0.8586\n",
      "Epoch 25/300\n",
      "20000/20000 - 1s - loss: 0.0177 - acc: 0.9959 - val_loss: 0.8013 - val_acc: 0.8556\n",
      "Epoch 26/300\n",
      "20000/20000 - 1s - loss: 0.0112 - acc: 0.9983 - val_loss: 0.8693 - val_acc: 0.8588\n",
      "Epoch 27/300\n",
      "20000/20000 - 1s - loss: 0.0087 - acc: 0.9987 - val_loss: 0.8796 - val_acc: 0.8536\n",
      "Epoch 28/300\n",
      "20000/20000 - 1s - loss: 0.0078 - acc: 0.9989 - val_loss: 0.9769 - val_acc: 0.8576\n",
      "Epoch 29/300\n",
      "20000/20000 - 1s - loss: 0.0077 - acc: 0.9988 - val_loss: 0.9603 - val_acc: 0.8568\n",
      "Epoch 30/300\n",
      "20000/20000 - 1s - loss: 0.0051 - acc: 0.9993 - val_loss: 1.0163 - val_acc: 0.8554\n",
      "Epoch 31/300\n",
      "20000/20000 - 1s - loss: 0.0040 - acc: 0.9995 - val_loss: 1.1296 - val_acc: 0.8552\n",
      "Epoch 32/300\n",
      "20000/20000 - 1s - loss: 0.0054 - acc: 0.9990 - val_loss: 1.1595 - val_acc: 0.8554\n",
      "Epoch 33/300\n",
      "20000/20000 - 1s - loss: 0.0040 - acc: 0.9995 - val_loss: 1.1656 - val_acc: 0.8568\n",
      "Epoch 34/300\n",
      "20000/20000 - 1s - loss: 0.0028 - acc: 0.9997 - val_loss: 1.1678 - val_acc: 0.8554\n",
      "Epoch 35/300\n",
      "20000/20000 - 1s - loss: 0.0027 - acc: 0.9997 - val_loss: 1.1846 - val_acc: 0.8550\n",
      "Epoch 36/300\n",
      "20000/20000 - 1s - loss: 0.0027 - acc: 0.9995 - val_loss: 1.3521 - val_acc: 0.8564\n",
      "Epoch 37/300\n",
      "20000/20000 - 1s - loss: 0.0641 - acc: 0.9765 - val_loss: 0.7050 - val_acc: 0.8446\n",
      "Epoch 38/300\n",
      "20000/20000 - 1s - loss: 0.0299 - acc: 0.9897 - val_loss: 0.8400 - val_acc: 0.8534\n",
      "Epoch 39/300\n",
      "20000/20000 - 1s - loss: 0.0108 - acc: 0.9969 - val_loss: 0.9656 - val_acc: 0.8554\n",
      "Epoch 40/300\n",
      "20000/20000 - 1s - loss: 0.0042 - acc: 0.9991 - val_loss: 1.0724 - val_acc: 0.8528\n",
      "Epoch 41/300\n",
      "20000/20000 - 1s - loss: 0.0024 - acc: 0.9997 - val_loss: 1.2109 - val_acc: 0.8516\n",
      "Epoch 42/300\n",
      "20000/20000 - 1s - loss: 0.0012 - acc: 0.9999 - val_loss: 1.2193 - val_acc: 0.8534\n",
      "Epoch 43/300\n",
      "20000/20000 - 1s - loss: 9.2632e-04 - acc: 0.9999 - val_loss: 1.2760 - val_acc: 0.8542\n",
      "Epoch 44/300\n",
      "20000/20000 - 1s - loss: 7.0942e-04 - acc: 0.9999 - val_loss: 1.2892 - val_acc: 0.8536\n",
      "Epoch 45/300\n",
      "20000/20000 - 1s - loss: 6.1464e-04 - acc: 0.9999 - val_loss: 1.3390 - val_acc: 0.8528\n",
      "Epoch 46/300\n",
      "20000/20000 - 1s - loss: 2.3416e-04 - acc: 1.0000 - val_loss: 1.3697 - val_acc: 0.8534\n",
      "Epoch 47/300\n",
      "20000/20000 - 1s - loss: 1.7493e-04 - acc: 1.0000 - val_loss: 1.4087 - val_acc: 0.8524\n",
      "Epoch 48/300\n",
      "20000/20000 - 1s - loss: 1.3062e-04 - acc: 1.0000 - val_loss: 1.4345 - val_acc: 0.8532\n",
      "Epoch 49/300\n",
      "20000/20000 - 1s - loss: 1.2637e-04 - acc: 1.0000 - val_loss: 1.4572 - val_acc: 0.8526\n",
      "Epoch 50/300\n",
      "20000/20000 - 1s - loss: 1.0718e-04 - acc: 1.0000 - val_loss: 1.4894 - val_acc: 0.8518\n",
      "Epoch 51/300\n",
      "20000/20000 - 1s - loss: 9.7913e-05 - acc: 1.0000 - val_loss: 1.5126 - val_acc: 0.8514\n",
      "Epoch 52/300\n",
      "20000/20000 - 1s - loss: 7.1809e-05 - acc: 1.0000 - val_loss: 1.5229 - val_acc: 0.8524\n",
      "Epoch 53/300\n",
      "20000/20000 - 1s - loss: 6.2902e-05 - acc: 1.0000 - val_loss: 1.5604 - val_acc: 0.8514\n",
      "Epoch 54/300\n",
      "20000/20000 - 1s - loss: 6.0443e-05 - acc: 1.0000 - val_loss: 1.5801 - val_acc: 0.8522\n",
      "Epoch 55/300\n",
      "20000/20000 - 1s - loss: 6.3680e-05 - acc: 1.0000 - val_loss: 1.5997 - val_acc: 0.8526\n",
      "Epoch 56/300\n",
      "20000/20000 - 1s - loss: 3.9207e-05 - acc: 1.0000 - val_loss: 1.6243 - val_acc: 0.8516\n",
      "Epoch 57/300\n",
      "20000/20000 - 1s - loss: 2.8921e-05 - acc: 1.0000 - val_loss: 1.6458 - val_acc: 0.8520\n",
      "Epoch 58/300\n",
      "20000/20000 - 1s - loss: 4.2898e-05 - acc: 1.0000 - val_loss: 1.6628 - val_acc: 0.8520\n",
      "Epoch 59/300\n",
      "20000/20000 - 1s - loss: 3.0443e-05 - acc: 1.0000 - val_loss: 1.6753 - val_acc: 0.8518\n",
      "Epoch 60/300\n",
      "20000/20000 - 1s - loss: 2.4324e-05 - acc: 1.0000 - val_loss: 1.6991 - val_acc: 0.8522\n",
      "Epoch 61/300\n",
      "20000/20000 - 1s - loss: 2.0449e-05 - acc: 1.0000 - val_loss: 1.7048 - val_acc: 0.8530\n",
      "Epoch 62/300\n",
      "20000/20000 - 1s - loss: 1.6442e-05 - acc: 1.0000 - val_loss: 1.7377 - val_acc: 0.8524\n",
      "Epoch 63/300\n",
      "20000/20000 - 1s - loss: 1.8326e-05 - acc: 1.0000 - val_loss: 1.7514 - val_acc: 0.8526\n",
      "Epoch 64/300\n",
      "20000/20000 - 1s - loss: 1.8990e-05 - acc: 1.0000 - val_loss: 1.7557 - val_acc: 0.8524\n",
      "Epoch 65/300\n",
      "20000/20000 - 1s - loss: 1.3333e-05 - acc: 1.0000 - val_loss: 1.7661 - val_acc: 0.8524\n",
      "Epoch 66/300\n",
      "20000/20000 - 1s - loss: 1.5782e-05 - acc: 1.0000 - val_loss: 1.7794 - val_acc: 0.8516\n",
      "Epoch 67/300\n",
      "20000/20000 - 1s - loss: 1.6672e-05 - acc: 1.0000 - val_loss: 1.7961 - val_acc: 0.8522\n",
      "Epoch 68/300\n",
      "20000/20000 - 1s - loss: 1.1380e-05 - acc: 1.0000 - val_loss: 1.8029 - val_acc: 0.8522\n",
      "Epoch 69/300\n",
      "20000/20000 - 1s - loss: 1.0541e-05 - acc: 1.0000 - val_loss: 1.8196 - val_acc: 0.8520\n",
      "Epoch 70/300\n",
      "20000/20000 - 1s - loss: 1.1150e-05 - acc: 1.0000 - val_loss: 1.8294 - val_acc: 0.8526\n",
      "Epoch 71/300\n",
      "20000/20000 - 1s - loss: 9.5549e-06 - acc: 1.0000 - val_loss: 1.8429 - val_acc: 0.8520\n",
      "Epoch 72/300\n",
      "20000/20000 - 1s - loss: 1.0107e-05 - acc: 1.0000 - val_loss: 1.8557 - val_acc: 0.8522\n",
      "Epoch 73/300\n",
      "20000/20000 - 1s - loss: 6.3089e-06 - acc: 1.0000 - val_loss: 1.8643 - val_acc: 0.8524\n",
      "Epoch 74/300\n",
      "20000/20000 - 1s - loss: 6.8825e-06 - acc: 1.0000 - val_loss: 1.8813 - val_acc: 0.8522\n",
      "Epoch 75/300\n",
      "20000/20000 - 1s - loss: 1.0876e-05 - acc: 1.0000 - val_loss: 1.8906 - val_acc: 0.8524\n",
      "Epoch 76/300\n",
      "20000/20000 - 1s - loss: 0.1169 - acc: 0.9754 - val_loss: 0.6494 - val_acc: 0.8570\n",
      "Epoch 77/300\n",
      "20000/20000 - 1s - loss: 0.0339 - acc: 0.9882 - val_loss: 0.7042 - val_acc: 0.8530\n",
      "Epoch 78/300\n",
      "20000/20000 - 1s - loss: 0.0147 - acc: 0.9955 - val_loss: 0.8096 - val_acc: 0.8538\n",
      "Epoch 79/300\n",
      "20000/20000 - 1s - loss: 0.0054 - acc: 0.9990 - val_loss: 0.9200 - val_acc: 0.8528\n",
      "Epoch 80/300\n",
      "20000/20000 - 1s - loss: 0.0021 - acc: 0.9999 - val_loss: 0.9880 - val_acc: 0.8532\n",
      "Epoch 81/300\n",
      "20000/20000 - 1s - loss: 0.0012 - acc: 1.0000 - val_loss: 1.0190 - val_acc: 0.8548\n",
      "Epoch 82/300\n",
      "20000/20000 - 1s - loss: 6.4911e-04 - acc: 1.0000 - val_loss: 1.0649 - val_acc: 0.8534\n",
      "Epoch 83/300\n",
      "20000/20000 - 1s - loss: 8.8158e-04 - acc: 0.9999 - val_loss: 1.0851 - val_acc: 0.8530\n",
      "Epoch 84/300\n",
      "20000/20000 - 1s - loss: 4.3997e-04 - acc: 1.0000 - val_loss: 1.1210 - val_acc: 0.8538\n",
      "Epoch 85/300\n",
      "20000/20000 - 1s - loss: 3.3598e-04 - acc: 1.0000 - val_loss: 1.1462 - val_acc: 0.8516\n",
      "Epoch 86/300\n",
      "20000/20000 - 1s - loss: 2.7854e-04 - acc: 1.0000 - val_loss: 1.1712 - val_acc: 0.8536\n",
      "Epoch 87/300\n",
      "20000/20000 - 1s - loss: 2.2744e-04 - acc: 1.0000 - val_loss: 1.1922 - val_acc: 0.8544\n",
      "Epoch 88/300\n",
      "20000/20000 - 1s - loss: 2.1268e-04 - acc: 1.0000 - val_loss: 1.2177 - val_acc: 0.8522\n",
      "Epoch 89/300\n",
      "20000/20000 - 1s - loss: 1.9326e-04 - acc: 1.0000 - val_loss: 1.2295 - val_acc: 0.8536\n",
      "Epoch 90/300\n",
      "20000/20000 - 1s - loss: 1.5846e-04 - acc: 1.0000 - val_loss: 1.2638 - val_acc: 0.8534\n",
      "Epoch 91/300\n",
      "20000/20000 - 1s - loss: 1.3391e-04 - acc: 1.0000 - val_loss: 1.2889 - val_acc: 0.8532\n",
      "Epoch 92/300\n",
      "20000/20000 - 1s - loss: 1.1653e-04 - acc: 1.0000 - val_loss: 1.3234 - val_acc: 0.8532\n",
      "Epoch 93/300\n",
      "20000/20000 - 1s - loss: 9.3127e-05 - acc: 1.0000 - val_loss: 1.3483 - val_acc: 0.8536\n",
      "Epoch 94/300\n",
      "20000/20000 - 1s - loss: 9.9179e-05 - acc: 1.0000 - val_loss: 1.3579 - val_acc: 0.8530\n",
      "Epoch 95/300\n",
      "20000/20000 - 1s - loss: 5.9900e-05 - acc: 1.0000 - val_loss: 1.3829 - val_acc: 0.8538\n",
      "Epoch 96/300\n",
      "20000/20000 - 1s - loss: 7.1168e-05 - acc: 1.0000 - val_loss: 1.3941 - val_acc: 0.8522\n",
      "Epoch 97/300\n",
      "20000/20000 - 1s - loss: 6.6296e-05 - acc: 1.0000 - val_loss: 1.4276 - val_acc: 0.8524\n",
      "Epoch 98/300\n",
      "20000/20000 - 1s - loss: 4.8398e-05 - acc: 1.0000 - val_loss: 1.4298 - val_acc: 0.8532\n",
      "Epoch 99/300\n",
      "20000/20000 - 1s - loss: 4.3116e-05 - acc: 1.0000 - val_loss: 1.4501 - val_acc: 0.8534\n",
      "Epoch 100/300\n",
      "20000/20000 - 1s - loss: 5.1883e-05 - acc: 1.0000 - val_loss: 1.4678 - val_acc: 0.8526\n",
      "Epoch 101/300\n",
      "20000/20000 - 1s - loss: 1.3928e-04 - acc: 1.0000 - val_loss: 1.3911 - val_acc: 0.8528\n",
      "Epoch 102/300\n",
      "20000/20000 - 1s - loss: 4.6300e-05 - acc: 1.0000 - val_loss: 1.4482 - val_acc: 0.8510\n",
      "Epoch 103/300\n",
      "20000/20000 - 1s - loss: 3.6158e-05 - acc: 1.0000 - val_loss: 1.4670 - val_acc: 0.8520\n",
      "Epoch 104/300\n",
      "20000/20000 - 1s - loss: 3.3401e-05 - acc: 1.0000 - val_loss: 1.4881 - val_acc: 0.8538\n",
      "Epoch 105/300\n",
      "20000/20000 - 1s - loss: 3.6451e-05 - acc: 1.0000 - val_loss: 1.5033 - val_acc: 0.8510\n",
      "Epoch 106/300\n",
      "20000/20000 - 1s - loss: 4.2557e-05 - acc: 1.0000 - val_loss: 1.5087 - val_acc: 0.8510\n",
      "Epoch 107/300\n",
      "20000/20000 - 1s - loss: 3.2049e-05 - acc: 1.0000 - val_loss: 1.5304 - val_acc: 0.8520\n",
      "Epoch 108/300\n",
      "20000/20000 - 1s - loss: 2.6067e-05 - acc: 1.0000 - val_loss: 1.5459 - val_acc: 0.8520\n",
      "Epoch 109/300\n",
      "20000/20000 - 1s - loss: 1.6943e-04 - acc: 1.0000 - val_loss: 1.5333 - val_acc: 0.8530\n",
      "Epoch 110/300\n",
      "20000/20000 - 1s - loss: 6.2146e-05 - acc: 1.0000 - val_loss: 1.5350 - val_acc: 0.8532\n",
      "Epoch 111/300\n",
      "20000/20000 - 1s - loss: 3.1470e-05 - acc: 1.0000 - val_loss: 1.5730 - val_acc: 0.8512\n",
      "Epoch 112/300\n",
      "20000/20000 - 1s - loss: 2.2965e-05 - acc: 1.0000 - val_loss: 1.5974 - val_acc: 0.8514\n",
      "Epoch 113/300\n",
      "20000/20000 - 1s - loss: 4.4901e-05 - acc: 1.0000 - val_loss: 1.5844 - val_acc: 0.8514\n",
      "Epoch 114/300\n",
      "20000/20000 - 1s - loss: 2.3062e-05 - acc: 1.0000 - val_loss: 1.6231 - val_acc: 0.8508\n",
      "Epoch 115/300\n",
      "20000/20000 - 1s - loss: 3.0669e-05 - acc: 1.0000 - val_loss: 1.6455 - val_acc: 0.8512\n",
      "Epoch 116/300\n",
      "20000/20000 - 1s - loss: 2.3756e-05 - acc: 1.0000 - val_loss: 1.6555 - val_acc: 0.8512\n",
      "Epoch 117/300\n",
      "20000/20000 - 1s - loss: 1.7328e-05 - acc: 1.0000 - val_loss: 1.6996 - val_acc: 0.8534\n",
      "Epoch 118/300\n",
      "20000/20000 - 1s - loss: 2.3007e-05 - acc: 1.0000 - val_loss: 1.6918 - val_acc: 0.8508\n",
      "Epoch 119/300\n",
      "20000/20000 - 1s - loss: 0.0669 - acc: 0.9844 - val_loss: 0.8178 - val_acc: 0.8516\n",
      "Epoch 120/300\n",
      "20000/20000 - 1s - loss: 0.0533 - acc: 0.9798 - val_loss: 0.7349 - val_acc: 0.8502\n",
      "Epoch 121/300\n",
      "20000/20000 - 1s - loss: 0.0150 - acc: 0.9955 - val_loss: 0.8649 - val_acc: 0.8526\n",
      "Epoch 122/300\n",
      "20000/20000 - 1s - loss: 0.0064 - acc: 0.9983 - val_loss: 1.0534 - val_acc: 0.8518\n",
      "Epoch 123/300\n",
      "20000/20000 - 1s - loss: 0.0018 - acc: 0.9998 - val_loss: 1.1231 - val_acc: 0.8514\n",
      "Epoch 124/300\n",
      "20000/20000 - 1s - loss: 0.0011 - acc: 0.9998 - val_loss: 1.1757 - val_acc: 0.8524\n",
      "Epoch 125/300\n",
      "20000/20000 - 1s - loss: 6.0023e-04 - acc: 1.0000 - val_loss: 1.2250 - val_acc: 0.8516\n",
      "Epoch 126/300\n",
      "20000/20000 - 1s - loss: 4.6816e-04 - acc: 1.0000 - val_loss: 1.2700 - val_acc: 0.8502\n",
      "Epoch 127/300\n",
      "20000/20000 - 1s - loss: 3.8013e-04 - acc: 1.0000 - val_loss: 1.2723 - val_acc: 0.8520\n",
      "Epoch 128/300\n",
      "20000/20000 - 1s - loss: 2.7355e-04 - acc: 1.0000 - val_loss: 1.3166 - val_acc: 0.8524\n",
      "Epoch 129/300\n",
      "20000/20000 - 1s - loss: 3.4139e-04 - acc: 0.9999 - val_loss: 1.3454 - val_acc: 0.8508\n",
      "Epoch 130/300\n",
      "20000/20000 - 1s - loss: 2.6276e-04 - acc: 1.0000 - val_loss: 1.3658 - val_acc: 0.8504\n",
      "Epoch 131/300\n",
      "20000/20000 - 1s - loss: 1.7486e-04 - acc: 1.0000 - val_loss: 1.3979 - val_acc: 0.8516\n",
      "Epoch 132/300\n",
      "20000/20000 - 1s - loss: 2.1066e-04 - acc: 1.0000 - val_loss: 1.4157 - val_acc: 0.8512\n",
      "Epoch 133/300\n",
      "20000/20000 - 1s - loss: 1.6907e-04 - acc: 1.0000 - val_loss: 1.4376 - val_acc: 0.8498\n",
      "Epoch 134/300\n",
      "20000/20000 - 1s - loss: 1.2826e-04 - acc: 1.0000 - val_loss: 1.4568 - val_acc: 0.8506\n",
      "Epoch 135/300\n",
      "20000/20000 - 1s - loss: 1.1275e-04 - acc: 1.0000 - val_loss: 1.4808 - val_acc: 0.8514\n",
      "Epoch 136/300\n",
      "20000/20000 - 1s - loss: 1.7266e-04 - acc: 1.0000 - val_loss: 1.4687 - val_acc: 0.8514\n",
      "Epoch 137/300\n",
      "20000/20000 - 1s - loss: 9.1372e-05 - acc: 1.0000 - val_loss: 1.5083 - val_acc: 0.8514\n",
      "Epoch 138/300\n",
      "20000/20000 - 1s - loss: 7.4013e-05 - acc: 1.0000 - val_loss: 1.5318 - val_acc: 0.8510\n",
      "Epoch 139/300\n",
      "20000/20000 - 1s - loss: 8.0162e-05 - acc: 1.0000 - val_loss: 1.5401 - val_acc: 0.8508\n",
      "Epoch 140/300\n",
      "20000/20000 - 1s - loss: 7.6332e-05 - acc: 1.0000 - val_loss: 1.5452 - val_acc: 0.8504\n",
      "Epoch 141/300\n",
      "20000/20000 - 1s - loss: 5.5793e-05 - acc: 1.0000 - val_loss: 1.5785 - val_acc: 0.8508\n",
      "Epoch 142/300\n",
      "20000/20000 - 1s - loss: 1.4252e-04 - acc: 1.0000 - val_loss: 1.5444 - val_acc: 0.8512\n",
      "Epoch 143/300\n",
      "20000/20000 - 1s - loss: 6.7713e-05 - acc: 1.0000 - val_loss: 1.6113 - val_acc: 0.8518\n",
      "Epoch 144/300\n",
      "20000/20000 - 1s - loss: 6.1821e-05 - acc: 1.0000 - val_loss: 1.6301 - val_acc: 0.8512\n",
      "Epoch 145/300\n",
      "20000/20000 - 1s - loss: 3.7437e-05 - acc: 1.0000 - val_loss: 1.6515 - val_acc: 0.8510\n",
      "Epoch 146/300\n",
      "20000/20000 - 1s - loss: 4.6634e-05 - acc: 1.0000 - val_loss: 1.6439 - val_acc: 0.8510\n",
      "Epoch 147/300\n",
      "20000/20000 - 1s - loss: 5.9855e-05 - acc: 1.0000 - val_loss: 1.6535 - val_acc: 0.8506\n",
      "Epoch 148/300\n",
      "20000/20000 - 1s - loss: 5.4827e-05 - acc: 1.0000 - val_loss: 1.6512 - val_acc: 0.8512\n",
      "Epoch 149/300\n",
      "20000/20000 - 1s - loss: 6.5628e-05 - acc: 1.0000 - val_loss: 1.6921 - val_acc: 0.8508\n",
      "Epoch 150/300\n",
      "20000/20000 - 1s - loss: 5.4688e-05 - acc: 1.0000 - val_loss: 1.6919 - val_acc: 0.8508\n",
      "Epoch 151/300\n",
      "20000/20000 - 1s - loss: 3.2465e-05 - acc: 1.0000 - val_loss: 1.7377 - val_acc: 0.8510\n",
      "Epoch 152/300\n",
      "20000/20000 - 1s - loss: 3.7177e-05 - acc: 1.0000 - val_loss: 1.7493 - val_acc: 0.8502\n",
      "Epoch 153/300\n",
      "20000/20000 - 1s - loss: 2.1393e-05 - acc: 1.0000 - val_loss: 1.7657 - val_acc: 0.8506\n",
      "Epoch 154/300\n",
      "20000/20000 - 1s - loss: 4.2258e-05 - acc: 1.0000 - val_loss: 1.7681 - val_acc: 0.8510\n",
      "Epoch 155/300\n",
      "20000/20000 - 1s - loss: 1.9220e-04 - acc: 0.9999 - val_loss: 1.6486 - val_acc: 0.8514\n",
      "Epoch 156/300\n",
      "20000/20000 - 1s - loss: 0.0827 - acc: 0.9781 - val_loss: 0.7123 - val_acc: 0.8558\n",
      "Epoch 157/300\n",
      "20000/20000 - 1s - loss: 0.0345 - acc: 0.9879 - val_loss: 0.8802 - val_acc: 0.8520\n",
      "Epoch 158/300\n",
      "20000/20000 - 1s - loss: 0.0143 - acc: 0.9952 - val_loss: 0.9940 - val_acc: 0.8552\n",
      "Epoch 159/300\n",
      "20000/20000 - 1s - loss: 0.0069 - acc: 0.9979 - val_loss: 1.0914 - val_acc: 0.8540\n",
      "Epoch 160/300\n",
      "20000/20000 - 1s - loss: 0.0030 - acc: 0.9992 - val_loss: 1.1815 - val_acc: 0.8558\n",
      "Epoch 161/300\n",
      "20000/20000 - 1s - loss: 0.0022 - acc: 0.9994 - val_loss: 1.2430 - val_acc: 0.8552\n",
      "Epoch 162/300\n",
      "20000/20000 - 1s - loss: 6.4101e-04 - acc: 0.9999 - val_loss: 1.3197 - val_acc: 0.8540\n",
      "Epoch 163/300\n",
      "20000/20000 - 1s - loss: 5.6886e-04 - acc: 0.9999 - val_loss: 1.3412 - val_acc: 0.8528\n",
      "Epoch 164/300\n",
      "20000/20000 - 1s - loss: 3.0310e-04 - acc: 1.0000 - val_loss: 1.3964 - val_acc: 0.8552\n",
      "Epoch 165/300\n",
      "20000/20000 - 1s - loss: 6.2773e-04 - acc: 0.9999 - val_loss: 1.3917 - val_acc: 0.8528\n",
      "Epoch 166/300\n",
      "20000/20000 - 1s - loss: 6.1019e-04 - acc: 0.9999 - val_loss: 1.4343 - val_acc: 0.8508\n",
      "Epoch 167/300\n",
      "20000/20000 - 1s - loss: 3.4354e-04 - acc: 1.0000 - val_loss: 1.4925 - val_acc: 0.8548\n",
      "Epoch 168/300\n",
      "20000/20000 - 1s - loss: 2.1167e-04 - acc: 0.9999 - val_loss: 1.5549 - val_acc: 0.8544\n",
      "Epoch 169/300\n",
      "20000/20000 - 1s - loss: 2.0613e-04 - acc: 1.0000 - val_loss: 1.5788 - val_acc: 0.8546\n",
      "Epoch 170/300\n",
      "20000/20000 - 1s - loss: 9.2503e-05 - acc: 1.0000 - val_loss: 1.5957 - val_acc: 0.8548\n",
      "Epoch 171/300\n",
      "20000/20000 - 1s - loss: 1.1134e-04 - acc: 1.0000 - val_loss: 1.6171 - val_acc: 0.8546\n",
      "Epoch 172/300\n",
      "20000/20000 - 1s - loss: 7.3739e-05 - acc: 1.0000 - val_loss: 1.6565 - val_acc: 0.8540\n",
      "Epoch 173/300\n",
      "20000/20000 - 1s - loss: 9.0433e-05 - acc: 1.0000 - val_loss: 1.6635 - val_acc: 0.8552\n",
      "Epoch 174/300\n",
      "20000/20000 - 1s - loss: 0.0060 - acc: 0.9980 - val_loss: 1.3739 - val_acc: 0.8514\n",
      "Epoch 175/300\n",
      "20000/20000 - 1s - loss: 0.0503 - acc: 0.9825 - val_loss: 1.0354 - val_acc: 0.8560\n",
      "Epoch 176/300\n",
      "20000/20000 - 1s - loss: 0.0172 - acc: 0.9938 - val_loss: 1.2150 - val_acc: 0.8490\n",
      "Epoch 177/300\n",
      "20000/20000 - 1s - loss: 0.0044 - acc: 0.9983 - val_loss: 1.2320 - val_acc: 0.8526\n",
      "Epoch 178/300\n",
      "20000/20000 - 1s - loss: 0.0050 - acc: 0.9984 - val_loss: 1.2686 - val_acc: 0.8518\n",
      "Epoch 179/300\n",
      "20000/20000 - 1s - loss: 0.0012 - acc: 0.9998 - val_loss: 1.3900 - val_acc: 0.8506\n",
      "Epoch 180/300\n",
      "20000/20000 - 1s - loss: 6.4438e-04 - acc: 0.9999 - val_loss: 1.4234 - val_acc: 0.8534\n",
      "Epoch 181/300\n",
      "20000/20000 - 1s - loss: 2.6542e-04 - acc: 1.0000 - val_loss: 1.4920 - val_acc: 0.8516\n",
      "Epoch 182/300\n",
      "20000/20000 - 1s - loss: 3.3417e-04 - acc: 0.9999 - val_loss: 1.5089 - val_acc: 0.8524\n",
      "Epoch 183/300\n",
      "20000/20000 - 1s - loss: 2.4209e-04 - acc: 1.0000 - val_loss: 1.5468 - val_acc: 0.8516\n",
      "Epoch 184/300\n",
      "20000/20000 - 1s - loss: 1.6691e-04 - acc: 1.0000 - val_loss: 1.5664 - val_acc: 0.8532\n",
      "Epoch 185/300\n",
      "20000/20000 - 1s - loss: 2.3280e-04 - acc: 1.0000 - val_loss: 1.5696 - val_acc: 0.8532\n",
      "Epoch 186/300\n",
      "20000/20000 - 1s - loss: 1.3580e-04 - acc: 1.0000 - val_loss: 1.6293 - val_acc: 0.8512\n",
      "Epoch 187/300\n",
      "20000/20000 - 1s - loss: 2.2016e-04 - acc: 1.0000 - val_loss: 1.6325 - val_acc: 0.8526\n",
      "Epoch 188/300\n",
      "20000/20000 - 1s - loss: 3.7106e-04 - acc: 0.9998 - val_loss: 1.6167 - val_acc: 0.8496\n",
      "Epoch 189/300\n",
      "20000/20000 - 1s - loss: 0.0234 - acc: 0.9927 - val_loss: 1.2352 - val_acc: 0.8534\n",
      "Epoch 190/300\n",
      "20000/20000 - 1s - loss: 0.0086 - acc: 0.9969 - val_loss: 1.3444 - val_acc: 0.8552\n",
      "Epoch 191/300\n",
      "20000/20000 - 1s - loss: 0.0017 - acc: 0.9996 - val_loss: 1.5057 - val_acc: 0.8524\n",
      "Epoch 192/300\n",
      "20000/20000 - 1s - loss: 0.0040 - acc: 0.9987 - val_loss: 1.4345 - val_acc: 0.8502\n",
      "Epoch 193/300\n",
      "20000/20000 - 1s - loss: 0.0016 - acc: 0.9997 - val_loss: 1.6709 - val_acc: 0.8484\n",
      "Epoch 194/300\n",
      "20000/20000 - 1s - loss: 0.0015 - acc: 0.9995 - val_loss: 1.4885 - val_acc: 0.8520\n",
      "Epoch 195/300\n",
      "20000/20000 - 1s - loss: 0.0013 - acc: 0.9996 - val_loss: 1.6197 - val_acc: 0.8522\n",
      "Epoch 196/300\n",
      "20000/20000 - 1s - loss: 0.0432 - acc: 0.9851 - val_loss: 1.1853 - val_acc: 0.8520\n",
      "Epoch 197/300\n",
      "20000/20000 - 1s - loss: 0.0044 - acc: 0.9987 - val_loss: 1.4337 - val_acc: 0.8516\n",
      "Epoch 198/300\n",
      "20000/20000 - 1s - loss: 0.0018 - acc: 0.9995 - val_loss: 1.4904 - val_acc: 0.8530\n",
      "Epoch 199/300\n",
      "20000/20000 - 1s - loss: 0.0021 - acc: 0.9995 - val_loss: 1.4513 - val_acc: 0.8508\n",
      "Epoch 200/300\n",
      "20000/20000 - 1s - loss: 0.0039 - acc: 0.9987 - val_loss: 1.7131 - val_acc: 0.8452\n",
      "Epoch 201/300\n",
      "20000/20000 - 1s - loss: 0.0027 - acc: 0.9991 - val_loss: 1.6551 - val_acc: 0.8500\n",
      "Epoch 202/300\n",
      "20000/20000 - 1s - loss: 0.0023 - acc: 0.9992 - val_loss: 1.6476 - val_acc: 0.8488\n",
      "Epoch 203/300\n",
      "20000/20000 - 1s - loss: 0.0023 - acc: 0.9994 - val_loss: 1.9088 - val_acc: 0.8502\n",
      "Epoch 204/300\n",
      "20000/20000 - 1s - loss: 5.2370e-04 - acc: 0.9998 - val_loss: 1.8977 - val_acc: 0.8498\n",
      "Epoch 205/300\n",
      "20000/20000 - 1s - loss: 0.0010 - acc: 0.9996 - val_loss: 2.0393 - val_acc: 0.8460\n",
      "Epoch 206/300\n",
      "20000/20000 - 1s - loss: 0.0188 - acc: 0.9941 - val_loss: 1.5134 - val_acc: 0.8514\n",
      "Epoch 207/300\n",
      "20000/20000 - 1s - loss: 0.0058 - acc: 0.9984 - val_loss: 1.4393 - val_acc: 0.8506\n",
      "Epoch 208/300\n",
      "20000/20000 - 1s - loss: 0.0043 - acc: 0.9983 - val_loss: 1.6118 - val_acc: 0.8496\n",
      "Epoch 209/300\n",
      "20000/20000 - 1s - loss: 0.0019 - acc: 0.9994 - val_loss: 1.5813 - val_acc: 0.8492\n",
      "Epoch 210/300\n",
      "20000/20000 - 1s - loss: 0.0010 - acc: 0.9998 - val_loss: 1.6489 - val_acc: 0.8512\n",
      "Epoch 211/300\n",
      "20000/20000 - 1s - loss: 6.7988e-04 - acc: 0.9999 - val_loss: 1.7593 - val_acc: 0.8512\n",
      "Epoch 212/300\n",
      "20000/20000 - 1s - loss: 1.9957e-04 - acc: 0.9999 - val_loss: 1.7694 - val_acc: 0.8526\n",
      "Epoch 213/300\n",
      "20000/20000 - 1s - loss: 2.1740e-04 - acc: 0.9999 - val_loss: 1.8160 - val_acc: 0.8526\n",
      "Epoch 214/300\n",
      "20000/20000 - 1s - loss: 1.6658e-04 - acc: 0.9999 - val_loss: 1.8722 - val_acc: 0.8518\n",
      "Epoch 215/300\n",
      "20000/20000 - 1s - loss: 1.4605e-04 - acc: 1.0000 - val_loss: 1.8941 - val_acc: 0.8524\n",
      "Epoch 216/300\n",
      "20000/20000 - 1s - loss: 9.8673e-05 - acc: 1.0000 - val_loss: 1.9449 - val_acc: 0.8498\n",
      "Epoch 217/300\n",
      "20000/20000 - 1s - loss: 6.5626e-05 - acc: 1.0000 - val_loss: 1.9335 - val_acc: 0.8526\n",
      "Epoch 218/300\n",
      "20000/20000 - 1s - loss: 0.0264 - acc: 0.9928 - val_loss: 1.2459 - val_acc: 0.8538\n",
      "Epoch 219/300\n",
      "20000/20000 - 1s - loss: 0.0227 - acc: 0.9912 - val_loss: 1.2574 - val_acc: 0.8532\n",
      "Epoch 220/300\n",
      "20000/20000 - 1s - loss: 0.0045 - acc: 0.9985 - val_loss: 1.4525 - val_acc: 0.8538\n",
      "Epoch 221/300\n",
      "20000/20000 - 1s - loss: 8.6626e-04 - acc: 0.9998 - val_loss: 1.5480 - val_acc: 0.8528\n",
      "Epoch 222/300\n",
      "20000/20000 - 1s - loss: 4.6902e-04 - acc: 0.9999 - val_loss: 1.6332 - val_acc: 0.8538\n",
      "Epoch 223/300\n",
      "20000/20000 - 1s - loss: 2.2224e-04 - acc: 1.0000 - val_loss: 1.7057 - val_acc: 0.8514\n",
      "Epoch 224/300\n",
      "20000/20000 - 1s - loss: 2.4387e-04 - acc: 1.0000 - val_loss: 1.8194 - val_acc: 0.8534\n",
      "Epoch 225/300\n",
      "20000/20000 - 1s - loss: 1.9297e-04 - acc: 1.0000 - val_loss: 1.8635 - val_acc: 0.8536\n",
      "Epoch 226/300\n",
      "20000/20000 - 1s - loss: 2.3684e-04 - acc: 0.9999 - val_loss: 1.8929 - val_acc: 0.8538\n",
      "Epoch 227/300\n",
      "20000/20000 - 1s - loss: 8.3148e-05 - acc: 1.0000 - val_loss: 1.9335 - val_acc: 0.8538\n",
      "Epoch 228/300\n",
      "20000/20000 - 1s - loss: 8.4165e-05 - acc: 1.0000 - val_loss: 1.9569 - val_acc: 0.8536\n",
      "Epoch 229/300\n",
      "20000/20000 - 1s - loss: 1.1921e-04 - acc: 1.0000 - val_loss: 2.0271 - val_acc: 0.8536\n",
      "Epoch 230/300\n",
      "20000/20000 - 1s - loss: 1.0473e-04 - acc: 1.0000 - val_loss: 2.0069 - val_acc: 0.8506\n",
      "Epoch 231/300\n",
      "20000/20000 - 1s - loss: 4.4406e-05 - acc: 1.0000 - val_loss: 2.0448 - val_acc: 0.8532\n",
      "Epoch 232/300\n",
      "20000/20000 - 1s - loss: 2.4164e-05 - acc: 1.0000 - val_loss: 2.0692 - val_acc: 0.8532\n",
      "Epoch 233/300\n",
      "20000/20000 - 1s - loss: 2.7889e-05 - acc: 1.0000 - val_loss: 2.1018 - val_acc: 0.8534\n",
      "Epoch 234/300\n",
      "20000/20000 - 1s - loss: 1.9091e-05 - acc: 1.0000 - val_loss: 2.1283 - val_acc: 0.8532\n",
      "Epoch 235/300\n",
      "20000/20000 - 1s - loss: 3.4642e-05 - acc: 1.0000 - val_loss: 2.1773 - val_acc: 0.8534\n",
      "Epoch 236/300\n",
      "20000/20000 - 1s - loss: 1.9044e-05 - acc: 1.0000 - val_loss: 2.1711 - val_acc: 0.8524\n",
      "Epoch 237/300\n",
      "20000/20000 - 1s - loss: 0.0461 - acc: 0.9862 - val_loss: 0.9488 - val_acc: 0.8508\n",
      "Epoch 238/300\n",
      "20000/20000 - 1s - loss: 0.0217 - acc: 0.9926 - val_loss: 1.0742 - val_acc: 0.8538\n",
      "Epoch 239/300\n",
      "20000/20000 - 1s - loss: 0.0042 - acc: 0.9987 - val_loss: 1.2900 - val_acc: 0.8518\n",
      "Epoch 240/300\n",
      "20000/20000 - 1s - loss: 0.0034 - acc: 0.9990 - val_loss: 1.5121 - val_acc: 0.8474\n",
      "Epoch 241/300\n",
      "20000/20000 - 1s - loss: 8.4822e-04 - acc: 0.9998 - val_loss: 1.5241 - val_acc: 0.8500\n",
      "Epoch 242/300\n",
      "20000/20000 - 1s - loss: 3.4547e-04 - acc: 0.9999 - val_loss: 1.5949 - val_acc: 0.8524\n",
      "Epoch 243/300\n",
      "20000/20000 - 1s - loss: 1.8417e-04 - acc: 1.0000 - val_loss: 1.6705 - val_acc: 0.8528\n",
      "Epoch 244/300\n",
      "20000/20000 - 1s - loss: 1.7915e-04 - acc: 1.0000 - val_loss: 1.7349 - val_acc: 0.8524\n",
      "Epoch 245/300\n",
      "20000/20000 - 1s - loss: 1.9159e-04 - acc: 1.0000 - val_loss: 1.7921 - val_acc: 0.8498\n",
      "Epoch 246/300\n",
      "20000/20000 - 1s - loss: 1.3025e-04 - acc: 1.0000 - val_loss: 1.8240 - val_acc: 0.8502\n",
      "Epoch 247/300\n",
      "20000/20000 - 1s - loss: 5.2478e-05 - acc: 1.0000 - val_loss: 1.8434 - val_acc: 0.8512\n",
      "Epoch 248/300\n",
      "20000/20000 - 1s - loss: 7.4570e-04 - acc: 0.9998 - val_loss: 1.9357 - val_acc: 0.8450\n",
      "Epoch 249/300\n",
      "20000/20000 - 1s - loss: 0.0361 - acc: 0.9894 - val_loss: 1.3705 - val_acc: 0.8538\n",
      "Epoch 250/300\n",
      "20000/20000 - 1s - loss: 0.0048 - acc: 0.9986 - val_loss: 1.4323 - val_acc: 0.8534\n",
      "Epoch 251/300\n",
      "20000/20000 - 1s - loss: 0.0018 - acc: 0.9995 - val_loss: 1.5480 - val_acc: 0.8522\n",
      "Epoch 252/300\n",
      "20000/20000 - 1s - loss: 7.6603e-04 - acc: 0.9999 - val_loss: 1.6566 - val_acc: 0.8518\n",
      "Epoch 253/300\n",
      "20000/20000 - 1s - loss: 0.0015 - acc: 0.9995 - val_loss: 1.6796 - val_acc: 0.8554\n",
      "Epoch 254/300\n",
      "20000/20000 - 1s - loss: 5.8057e-04 - acc: 0.9998 - val_loss: 1.7335 - val_acc: 0.8530\n",
      "Epoch 255/300\n",
      "20000/20000 - 1s - loss: 2.4703e-04 - acc: 1.0000 - val_loss: 1.7956 - val_acc: 0.8542\n",
      "Epoch 256/300\n",
      "20000/20000 - 1s - loss: 3.6949e-04 - acc: 0.9999 - val_loss: 1.8063 - val_acc: 0.8478\n",
      "Epoch 257/300\n",
      "20000/20000 - 1s - loss: 0.0235 - acc: 0.9917 - val_loss: 1.5139 - val_acc: 0.8494\n",
      "Epoch 258/300\n",
      "20000/20000 - 1s - loss: 0.0178 - acc: 0.9942 - val_loss: 1.4572 - val_acc: 0.8456\n",
      "Epoch 259/300\n",
      "20000/20000 - 1s - loss: 0.0026 - acc: 0.9992 - val_loss: 1.5611 - val_acc: 0.8506\n",
      "Epoch 260/300\n",
      "20000/20000 - 1s - loss: 9.3605e-04 - acc: 0.9998 - val_loss: 1.6099 - val_acc: 0.8524\n",
      "Epoch 261/300\n",
      "20000/20000 - 1s - loss: 7.5746e-04 - acc: 0.9998 - val_loss: 1.7031 - val_acc: 0.8522\n",
      "Epoch 262/300\n",
      "20000/20000 - 1s - loss: 5.1966e-04 - acc: 0.9998 - val_loss: 1.7932 - val_acc: 0.8518\n",
      "Epoch 263/300\n",
      "20000/20000 - 1s - loss: 2.1392e-04 - acc: 0.9999 - val_loss: 1.8632 - val_acc: 0.8524\n",
      "Epoch 264/300\n",
      "20000/20000 - 1s - loss: 2.2659e-04 - acc: 0.9999 - val_loss: 1.9158 - val_acc: 0.8530\n",
      "Epoch 265/300\n",
      "20000/20000 - 1s - loss: 3.2636e-04 - acc: 0.9999 - val_loss: 1.9557 - val_acc: 0.8520\n",
      "Epoch 266/300\n",
      "20000/20000 - 1s - loss: 1.9291e-04 - acc: 0.9999 - val_loss: 1.9933 - val_acc: 0.8512\n",
      "Epoch 267/300\n",
      "20000/20000 - 1s - loss: 1.4137e-04 - acc: 1.0000 - val_loss: 2.0116 - val_acc: 0.8522\n",
      "Epoch 268/300\n",
      "20000/20000 - 1s - loss: 1.9522e-04 - acc: 0.9999 - val_loss: 2.0556 - val_acc: 0.8502\n",
      "Epoch 269/300\n",
      "20000/20000 - 1s - loss: 8.4699e-05 - acc: 1.0000 - val_loss: 2.0832 - val_acc: 0.8524\n",
      "Epoch 270/300\n",
      "20000/20000 - 1s - loss: 5.7015e-05 - acc: 1.0000 - val_loss: 2.1179 - val_acc: 0.8522\n",
      "Epoch 271/300\n",
      "20000/20000 - 1s - loss: 5.0359e-05 - acc: 1.0000 - val_loss: 2.1452 - val_acc: 0.8524\n",
      "Epoch 272/300\n",
      "20000/20000 - 1s - loss: 1.8587e-04 - acc: 0.9999 - val_loss: 2.1877 - val_acc: 0.8508\n",
      "Epoch 273/300\n",
      "20000/20000 - 1s - loss: 8.7119e-05 - acc: 1.0000 - val_loss: 2.2014 - val_acc: 0.8516\n",
      "Epoch 274/300\n",
      "20000/20000 - 1s - loss: 7.0065e-05 - acc: 1.0000 - val_loss: 2.2288 - val_acc: 0.8520\n",
      "Epoch 275/300\n",
      "20000/20000 - 1s - loss: 4.4841e-05 - acc: 1.0000 - val_loss: 2.2612 - val_acc: 0.8508\n",
      "Epoch 276/300\n",
      "20000/20000 - 1s - loss: 9.3340e-05 - acc: 0.9999 - val_loss: 2.2982 - val_acc: 0.8512\n",
      "Epoch 277/300\n",
      "20000/20000 - 1s - loss: 0.0157 - acc: 0.9961 - val_loss: 1.6583 - val_acc: 0.8526\n",
      "Epoch 278/300\n",
      "20000/20000 - 1s - loss: 0.0057 - acc: 0.9987 - val_loss: 1.6063 - val_acc: 0.8520\n",
      "Epoch 279/300\n",
      "20000/20000 - 1s - loss: 0.0018 - acc: 0.9994 - val_loss: 1.8174 - val_acc: 0.8478\n",
      "Epoch 280/300\n",
      "20000/20000 - 1s - loss: 0.0053 - acc: 0.9984 - val_loss: 1.7662 - val_acc: 0.8526\n",
      "Epoch 281/300\n",
      "20000/20000 - 1s - loss: 4.4939e-04 - acc: 1.0000 - val_loss: 1.9463 - val_acc: 0.8526\n",
      "Epoch 282/300\n",
      "20000/20000 - 1s - loss: 2.4319e-04 - acc: 0.9999 - val_loss: 2.0242 - val_acc: 0.8526\n",
      "Epoch 283/300\n",
      "20000/20000 - 1s - loss: 9.0327e-05 - acc: 1.0000 - val_loss: 2.0634 - val_acc: 0.8532\n",
      "Epoch 284/300\n",
      "20000/20000 - 1s - loss: 1.1242e-04 - acc: 0.9999 - val_loss: 2.1460 - val_acc: 0.8526\n",
      "Epoch 285/300\n",
      "20000/20000 - 1s - loss: 1.0121e-04 - acc: 0.9999 - val_loss: 2.2127 - val_acc: 0.8506\n",
      "Epoch 286/300\n",
      "20000/20000 - 1s - loss: 1.2729e-04 - acc: 1.0000 - val_loss: 2.2222 - val_acc: 0.8536\n",
      "Epoch 287/300\n",
      "20000/20000 - 1s - loss: 6.8962e-05 - acc: 1.0000 - val_loss: 2.2636 - val_acc: 0.8526\n",
      "Epoch 288/300\n",
      "20000/20000 - 1s - loss: 4.6546e-05 - acc: 1.0000 - val_loss: 2.3325 - val_acc: 0.8510\n",
      "Epoch 289/300\n",
      "20000/20000 - 1s - loss: 1.8835e-04 - acc: 0.9999 - val_loss: 2.2133 - val_acc: 0.8522\n",
      "Epoch 290/300\n",
      "20000/20000 - 1s - loss: 2.9401e-04 - acc: 0.9999 - val_loss: 2.3196 - val_acc: 0.8494\n",
      "Epoch 291/300\n",
      "20000/20000 - 1s - loss: 3.8127e-05 - acc: 1.0000 - val_loss: 2.4179 - val_acc: 0.8500\n",
      "Epoch 292/300\n",
      "20000/20000 - 1s - loss: 2.7204e-05 - acc: 1.0000 - val_loss: 2.4383 - val_acc: 0.8508\n",
      "Epoch 293/300\n",
      "20000/20000 - 1s - loss: 0.0044 - acc: 0.9987 - val_loss: 1.8928 - val_acc: 0.8510\n",
      "Epoch 294/300\n",
      "20000/20000 - 1s - loss: 0.0077 - acc: 0.9974 - val_loss: 1.7585 - val_acc: 0.8496\n",
      "Epoch 295/300\n",
      "20000/20000 - 1s - loss: 0.0101 - acc: 0.9967 - val_loss: 1.7116 - val_acc: 0.8508\n",
      "Epoch 296/300\n",
      "20000/20000 - 1s - loss: 0.0187 - acc: 0.9936 - val_loss: 1.4252 - val_acc: 0.8516\n",
      "Epoch 297/300\n",
      "20000/20000 - 1s - loss: 0.0017 - acc: 0.9996 - val_loss: 1.6556 - val_acc: 0.8516\n",
      "Epoch 298/300\n",
      "20000/20000 - 1s - loss: 9.9413e-04 - acc: 0.9998 - val_loss: 1.8623 - val_acc: 0.8516\n",
      "Epoch 299/300\n",
      "20000/20000 - 1s - loss: 3.6208e-04 - acc: 0.9998 - val_loss: 1.9169 - val_acc: 0.8526\n",
      "Epoch 300/300\n",
      "20000/20000 - 1s - loss: 1.3340e-04 - acc: 1.0000 - val_loss: 2.0103 - val_acc: 0.8534\n"
     ]
    }
   ],
   "source": [
    "#Build and Train the model\n",
    "embedd_dim = 16\n",
    "\n",
    "model = keras.Sequential([\n",
    "    keras.layers.Embedding(vocab_size + 1, embedd_dim),\n",
    "    keras.layers.GlobalAveragePooling1D(),\n",
    "    keras.layers.Dense(212, activation='relu'),\n",
    "    keras.layers.Dropout(0.2),\n",
    "    keras.layers.Dense(212, activation='relu'),\n",
    "    #keras.layers.Dropout(0.1),\n",
    "    keras.layers.Dense(212, activation='relu'),\n",
    "    keras.layers.Dense(1, activation='sigmoid')\n",
    "])\n",
    "\n",
    "model.compile(optimizer = 'adam', loss = 'binary_crossentropy', metrics = ['accuracy'])\n",
    "history = model.fit(x_train, y_train, epochs=300,  batch_size=200, verbose = 2, validation_data = (x_test, y_test))"
   ]
  },
  {
   "cell_type": "markdown",
   "metadata": {
    "colab_type": "text",
    "id": "n-NV23aCFQns"
   },
   "source": [
    "## Visualization "
   ]
  },
  {
   "cell_type": "code",
   "execution_count": 158,
   "metadata": {
    "colab": {
     "base_uri": "https://localhost:8080/",
     "height": 585
    },
    "colab_type": "code",
    "id": "A66aZFr_eDez",
    "outputId": "ab93e7ca-e646-4d45-c1a5-99256ec2c27c"
   },
   "outputs": [
    {
     "data": {
      "image/png": "[encoded data removed]",
      "text/plain": [
       "<Figure size 432x288 with 1 Axes>"
      ]
     },
     "metadata": {
      "tags": []
     },
     "output_type": "display_data"
    },
    {
     "data": {
      "image/png": "[encoded data removed]",
      "text/plain": [
       "<Figure size 432x288 with 1 Axes>"
      ]
     },
     "metadata": {
      "tags": []
     },
     "output_type": "display_data"
    }
   ],
   "source": [
    "# Plot training & validation accuracy values\n",
    "plt.plot(history.history['acc'])\n",
    "plt.plot(history.history['val_acc'])\n",
    "plt.title('Model accuracy')\n",
    "plt.ylabel('Accuracy')\n",
    "plt.xlabel('Epoch')\n",
    "plt.legend(['Train', 'Test'], loc='upper left')\n",
    "plt.show()\n",
    "\n",
    "# Plot training & validation loss values\n",
    "plt.plot(history.history['loss'])\n",
    "plt.plot(history.history['val_loss'])\n",
    "plt.title('Model loss')\n",
    "plt.ylabel('Loss')\n",
    "plt.xlabel('Epoch')\n",
    "plt.legend(['Train', 'Test'], loc='upper left')\n",
    "plt.show()"
   ]
  },
  {
   "cell_type": "markdown",
   "metadata": {
    "colab_type": "text",
    "id": "h61oQUUYIQlF"
   },
   "source": [
    "## **Confusion Matrix**"
   ]
  },
  {
   "cell_type": "code",
   "execution_count": 159,
   "metadata": {
    "colab": {
     "base_uri": "https://localhost:8080/",
     "height": 291
    },
    "colab_type": "code",
    "id": "_T3YjrXZeOC1",
    "outputId": "a846836a-2769-4867-aa11-0c369b62f2ec"
   },
   "outputs": [
    {
     "data": {
      "text/plain": [
       "<matplotlib.axes._subplots.AxesSubplot at 0x7fc0edf63c18>"
      ]
     },
     "execution_count": 159,
     "metadata": {
      "tags": []
     },
     "output_type": "execute_result"
    },
    {
     "data": {
      "image/png": "[encoded data removed]",
      "text/plain": [
       "<Figure size 360x288 with 2 Axes>"
      ]
     },
     "metadata": {
      "tags": []
     },
     "output_type": "display_data"
    }
   ],
   "source": [
    "from sklearn.metrics import confusion_matrix\n",
    "import seaborn as sn\n",
    "\n",
    "y_pred = model.predict_classes(x_test)\n",
    "y_true = y_test\n",
    "\n",
    "cm = confusion_matrix(y_true, y_pred)\n",
    "df_cm = pd.DataFrame(cm)\n",
    "plt.figure(figsize = (5, 4))\n",
    "sn.heatmap(df_cm, annot=True, fmt='g')"
   ]
  },
  {
   "cell_type": "markdown",
   "metadata": {
    "colab_type": "text",
    "id": "6WiSoVa1IU60"
   },
   "source": [
    "## **Classification Report**"
   ]
  },
  {
   "cell_type": "code",
   "execution_count": 160,
   "metadata": {
    "colab": {
     "base_uri": "https://localhost:8080/",
     "height": 170
    },
    "colab_type": "code",
    "id": "tDs_FO4seThm",
    "outputId": "c6e128db-8cc3-4a9c-c6b5-9d1f2003d72d"
   },
   "outputs": [
    {
     "name": "stdout",
     "output_type": "stream",
     "text": [
      "              precision    recall  f1-score   support\n",
      "\n",
      "           0       0.87      0.84      0.85      2515\n",
      "           1       0.84      0.87      0.85      2485\n",
      "\n",
      "    accuracy                           0.85      5000\n",
      "   macro avg       0.85      0.85      0.85      5000\n",
      "weighted avg       0.85      0.85      0.85      5000\n",
      "\n"
     ]
    }
   ],
   "source": [
    "from sklearn.metrics import classification_report\n",
    "print(classification_report(y_true, y_pred))"
   ]
  },
  {
   "cell_type": "markdown",
   "metadata": {
    "colab_type": "text",
    "id": "o1iUJxmEIdkj"
   },
   "source": [
    "## **Accuracy**"
   ]
  },
  {
   "cell_type": "code",
   "execution_count": 161,
   "metadata": {
    "colab": {
     "base_uri": "https://localhost:8080/",
     "height": 34
    },
    "colab_type": "code",
    "id": "jmOtmFVUCkdY",
    "outputId": "da52243d-6c5f-4a38-d53c-11501c77dd49"
   },
   "outputs": [
    {
     "name": "stdout",
     "output_type": "stream",
     "text": [
      "5000/5000 [==============================] - 0s 65us/sample - loss: 2.0103 - acc: 0.8534\n"
     ]
    }
   ],
   "source": [
    "Accuracy=model.evaluate(x_test,y_test)"
   ]
  },
  {
   "cell_type": "code",
   "execution_count": 162,
   "metadata": {
    "colab": {
     "base_uri": "https://localhost:8080/",
     "height": 34
    },
    "colab_type": "code",
    "id": "klfpT8OPCnbP",
    "outputId": "bcb5266f-45d6-4ced-c57a-4ec63b371ff6"
   },
   "outputs": [
    {
     "data": {
      "text/plain": [
       "[2.010269424247742, 0.8534]"
      ]
     },
     "execution_count": 162,
     "metadata": {
      "tags": []
     },
     "output_type": "execute_result"
    }
   ],
   "source": [
    "Accuracy"
   ]
  }
 ],
 "metadata": {
  "accelerator": "GPU",
  "colab": {
   "collapsed_sections": [],
   "include_colab_link": true,
   "name": "Movie Review Sentiment Analysis.ipynb",
   "provenance": [],
   "version": "0.3.2"
  },
  "kernelspec": {
   "display_name": "Python 3",
   "language": "python",
   "name": "python3"
  },
  "language_info": {
   "codemirror_mode": {
    "name": "ipython",
    "version": 3
   },
   "file_extension": ".py",
   "mimetype": "text/x-python",
   "name": "python",
   "nbconvert_exporter": "python",
   "pygments_lexer": "ipython3",
   "version": "3.7.3"
  }
 },
 "nbformat": 4,
 "nbformat_minor": 1
}
